{
 "cells": [
  {
   "cell_type": "code",
   "execution_count": 238,
   "metadata": {},
   "outputs": [],
   "source": [
    "# Initialize a Spark Session\n",
    "from pyspark.sql import SparkSession\n",
    "# Specify the number of available cores in .master()\n",
    "spark = SparkSession.builder.master('local[4]').appName('Weighted Random Forest with Spark 3').getOrCreate()\n",
    "\n",
    "# Get the data here : https://www.kaggle.com/mlg-ulb/creditcardfraud\n",
    "csv_file = \".../creditcard.csv\"\n",
    "df = spark.read.format(\"csv\").option(\"inferSchema\", \"true\").option(\"header\", \"true\").load(csv_file)"
   ]
  },
  {
   "cell_type": "code",
   "execution_count": 239,
   "metadata": {},
   "outputs": [
    {
     "name": "stdout",
     "output_type": "stream",
     "text": [
      "DataFrame[Time: double, V1: double, V2: double, V3: double, V4: double, V5: double, V6: double, V7: double, V8: double, V9: double, V10: double, V11: double, V12: double, V13: double, V14: double, V15: double, V16: double, V17: double, V18: double, V19: double, V20: double, V21: double, V22: double, V23: double, V24: double, V25: double, V26: double, V27: double, V28: double, Amount: double, Class: int]\n"
     ]
    }
   ],
   "source": [
    "print(df)"
   ]
  },
  {
   "cell_type": "markdown",
   "metadata": {},
   "source": [
    "The 'Time' column is to be deleted since it 'contains the seconds elapsed between each transaction and the first transaction' : irrelevant in my opinion. We also rename columns for our taste :)"
   ]
  },
  {
   "cell_type": "code",
   "execution_count": 240,
   "metadata": {},
   "outputs": [],
   "source": [
    "df = df.drop('Time').withColumnRenamed('Amount', 'amount').withColumnRenamed('Class', 'outcome')"
   ]
  },
  {
   "cell_type": "code",
   "execution_count": 241,
   "metadata": {},
   "outputs": [
    {
     "name": "stdout",
     "output_type": "stream",
     "text": [
      "   outcome   count\n",
      "0        1     492\n",
      "1        0  284315\n"
     ]
    }
   ],
   "source": [
    "# Check imbalance and compute weights\n",
    "import pandas as pd\n",
    "counts = df.groupBy('outcome').count().toPandas()\n",
    "print(counts)"
   ]
  },
  {
   "cell_type": "markdown",
   "metadata": {},
   "source": [
    "We only have 492 frauds out of 284807 transactions. A rather imbalanced dataset indeed. This is the reason why we compute a weight for each observation, according to its class (i.e fraud / not fraud). We will use the following popular method, even though there seems to be no strong consensus at the moment among the ML community regarding this subject : $$w_i := \\frac{n}{n_i * C}$$\n",
    "\n",
    "Where $C$ is the number of classes (today, $C = 2$), $i \\in {1...C}$, $n$ is the total number of observations and $n_i$ the number of observations of class $i$."
   ]
  },
  {
   "cell_type": "code",
   "execution_count": 242,
   "metadata": {},
   "outputs": [],
   "source": [
    "# Counts\n",
    "count_fraud = counts[counts['outcome']==1]['count'].values[0]\n",
    "count_total = counts['count'].sum()\n",
    "\n",
    "# Weights\n",
    "c = 2\n",
    "weight_fraud = count_total / (c * count_fraud)\n",
    "weight_no_fraud = count_total / (c * (count_total - count_fraud))\n",
    "\n",
    "# Append weights to the dataset\n",
    "from pyspark.sql.functions import col\n",
    "from pyspark.sql.functions import when\n",
    "\n",
    "df = df.withColumn(\"weight\", when(col(\"outcome\") ==1, weight_fraud).otherwise(weight_no_fraud))"
   ]
  },
  {
   "cell_type": "code",
   "execution_count": 243,
   "metadata": {},
   "outputs": [
    {
     "name": "stdout",
     "output_type": "stream",
     "text": [
      "+-------+-----------------+\n",
      "|outcome|           weight|\n",
      "+-------+-----------------+\n",
      "|      1|289.4380081300813|\n",
      "|      1|289.4380081300813|\n",
      "|      1|289.4380081300813|\n",
      "+-------+-----------------+\n",
      "only showing top 3 rows\n",
      "\n"
     ]
    }
   ],
   "source": [
    "# Check everything seems ok\n",
    "df.select('outcome', 'weight').where(col('outcome')==1).show(3)"
   ]
  },
  {
   "cell_type": "code",
   "execution_count": 244,
   "metadata": {},
   "outputs": [
    {
     "name": "stdout",
     "output_type": "stream",
     "text": [
      "+-------+------------------+\n",
      "|outcome|            weight|\n",
      "+-------+------------------+\n",
      "|      0|0.5008652375006595|\n",
      "|      0|0.5008652375006595|\n",
      "|      0|0.5008652375006595|\n",
      "+-------+------------------+\n",
      "only showing top 3 rows\n",
      "\n"
     ]
    }
   ],
   "source": [
    "df.select('outcome', 'weight').where(col('outcome')==0).show(3)"
   ]
  },
  {
   "cell_type": "code",
   "execution_count": 280,
   "metadata": {},
   "outputs": [
    {
     "data": {
      "text/html": [
       "<div>\n",
       "<style scoped>\n",
       "    .dataframe tbody tr th:only-of-type {\n",
       "        vertical-align: middle;\n",
       "    }\n",
       "\n",
       "    .dataframe tbody tr th {\n",
       "        vertical-align: top;\n",
       "    }\n",
       "\n",
       "    .dataframe thead th {\n",
       "        text-align: right;\n",
       "    }\n",
       "</style>\n",
       "<table border=\"1\" class=\"dataframe\">\n",
       "  <thead>\n",
       "    <tr style=\"text-align: right;\">\n",
       "      <th></th>\n",
       "      <th>summary</th>\n",
       "      <th>V1</th>\n",
       "      <th>V2</th>\n",
       "      <th>V3</th>\n",
       "      <th>V4</th>\n",
       "      <th>V5</th>\n",
       "      <th>V6</th>\n",
       "      <th>V7</th>\n",
       "      <th>V8</th>\n",
       "      <th>V9</th>\n",
       "      <th>...</th>\n",
       "      <th>V22</th>\n",
       "      <th>V23</th>\n",
       "      <th>V24</th>\n",
       "      <th>V25</th>\n",
       "      <th>V26</th>\n",
       "      <th>V27</th>\n",
       "      <th>V28</th>\n",
       "      <th>amount</th>\n",
       "      <th>outcome</th>\n",
       "      <th>weight</th>\n",
       "    </tr>\n",
       "  </thead>\n",
       "  <tbody>\n",
       "    <tr>\n",
       "      <th>0</th>\n",
       "      <td>count</td>\n",
       "      <td>284807</td>\n",
       "      <td>284807</td>\n",
       "      <td>284807</td>\n",
       "      <td>284807</td>\n",
       "      <td>284807</td>\n",
       "      <td>284807</td>\n",
       "      <td>284807</td>\n",
       "      <td>284807</td>\n",
       "      <td>284807</td>\n",
       "      <td>...</td>\n",
       "      <td>284807</td>\n",
       "      <td>284807</td>\n",
       "      <td>284807</td>\n",
       "      <td>284807</td>\n",
       "      <td>284807</td>\n",
       "      <td>284807</td>\n",
       "      <td>284807</td>\n",
       "      <td>284807</td>\n",
       "      <td>284807</td>\n",
       "      <td>284807</td>\n",
       "    </tr>\n",
       "    <tr>\n",
       "      <th>1</th>\n",
       "      <td>mean</td>\n",
       "      <td>2.235360406313924E-15</td>\n",
       "      <td>6.865749819392767E-17</td>\n",
       "      <td>-5.824710544452282E-15</td>\n",
       "      <td>2.0118243656825316E-15</td>\n",
       "      <td>3.704311530463074E-15</td>\n",
       "      <td>1.1400338072201013E-15</td>\n",
       "      <td>-1.1496139232471609E-16</td>\n",
       "      <td>-2.9538691083434E-16</td>\n",
       "      <td>-2.082078549880969E-15</td>\n",
       "      <td>...</td>\n",
       "      <td>-7.664092821647739E-16</td>\n",
       "      <td>2.9538691083434E-16</td>\n",
       "      <td>4.4549535383333125E-15</td>\n",
       "      <td>1.034652530922445E-15</td>\n",
       "      <td>1.8082469001075134E-15</td>\n",
       "      <td>-3.5236864262028866E-16</td>\n",
       "      <td>-1.1336470632020615E-16</td>\n",
       "      <td>88.3496192509521</td>\n",
       "      <td>0.001727485630620034</td>\n",
       "      <td>1.0000000000007845</td>\n",
       "    </tr>\n",
       "    <tr>\n",
       "      <th>2</th>\n",
       "      <td>stddev</td>\n",
       "      <td>1.9586958038574904</td>\n",
       "      <td>1.6513085794769997</td>\n",
       "      <td>1.5162550051777732</td>\n",
       "      <td>1.415868574940927</td>\n",
       "      <td>1.380246734031437</td>\n",
       "      <td>1.3322710897575714</td>\n",
       "      <td>1.2370935981826632</td>\n",
       "      <td>1.1943529026692048</td>\n",
       "      <td>1.0986320892243222</td>\n",
       "      <td>...</td>\n",
       "      <td>0.7257015604409107</td>\n",
       "      <td>0.6244602955949898</td>\n",
       "      <td>0.6056470678271603</td>\n",
       "      <td>0.5212780705409427</td>\n",
       "      <td>0.48222701326105666</td>\n",
       "      <td>0.4036324949650313</td>\n",
       "      <td>0.33008326416025036</td>\n",
       "      <td>250.1201092401885</td>\n",
       "      <td>0.041527189635464985</td>\n",
       "      <td>11.998747525629687</td>\n",
       "    </tr>\n",
       "    <tr>\n",
       "      <th>3</th>\n",
       "      <td>min</td>\n",
       "      <td>-56.407509631329</td>\n",
       "      <td>-72.7157275629303</td>\n",
       "      <td>-48.3255893623954</td>\n",
       "      <td>-5.68317119816995</td>\n",
       "      <td>-113.743306711146</td>\n",
       "      <td>-26.1605059358433</td>\n",
       "      <td>-43.5572415712451</td>\n",
       "      <td>-73.2167184552674</td>\n",
       "      <td>-13.4340663182301</td>\n",
       "      <td>...</td>\n",
       "      <td>-10.933143697655</td>\n",
       "      <td>-44.8077352037913</td>\n",
       "      <td>-2.83662691870341</td>\n",
       "      <td>-10.2953970749851</td>\n",
       "      <td>-2.60455055280817</td>\n",
       "      <td>-22.5656793207827</td>\n",
       "      <td>-15.4300839055349</td>\n",
       "      <td>0.0</td>\n",
       "      <td>0</td>\n",
       "      <td>0.5008652375006595</td>\n",
       "    </tr>\n",
       "    <tr>\n",
       "      <th>4</th>\n",
       "      <td>max</td>\n",
       "      <td>2.45492999121121</td>\n",
       "      <td>22.0577289904909</td>\n",
       "      <td>9.38255843282114</td>\n",
       "      <td>16.8753440335975</td>\n",
       "      <td>34.8016658766686</td>\n",
       "      <td>73.3016255459646</td>\n",
       "      <td>120.589493945238</td>\n",
       "      <td>20.0072083651213</td>\n",
       "      <td>15.5949946071278</td>\n",
       "      <td>...</td>\n",
       "      <td>10.5030900899454</td>\n",
       "      <td>22.5284116897749</td>\n",
       "      <td>4.58454913689817</td>\n",
       "      <td>7.51958867870916</td>\n",
       "      <td>3.5173456116238</td>\n",
       "      <td>31.6121981061363</td>\n",
       "      <td>33.8478078188831</td>\n",
       "      <td>25691.16</td>\n",
       "      <td>1</td>\n",
       "      <td>289.4380081300813</td>\n",
       "    </tr>\n",
       "  </tbody>\n",
       "</table>\n",
       "<p>5 rows × 32 columns</p>\n",
       "</div>"
      ],
      "text/plain": [
       "  summary                     V1                     V2  \\\n",
       "0   count                 284807                 284807   \n",
       "1    mean  2.235360406313924E-15  6.865749819392767E-17   \n",
       "2  stddev     1.9586958038574904     1.6513085794769997   \n",
       "3     min       -56.407509631329      -72.7157275629303   \n",
       "4     max       2.45492999121121       22.0577289904909   \n",
       "\n",
       "                       V3                      V4                     V5  \\\n",
       "0                  284807                  284807                 284807   \n",
       "1  -5.824710544452282E-15  2.0118243656825316E-15  3.704311530463074E-15   \n",
       "2      1.5162550051777732       1.415868574940927      1.380246734031437   \n",
       "3       -48.3255893623954       -5.68317119816995      -113.743306711146   \n",
       "4        9.38255843282114        16.8753440335975       34.8016658766686   \n",
       "\n",
       "                       V6                       V7                    V8  \\\n",
       "0                  284807                   284807                284807   \n",
       "1  1.1400338072201013E-15  -1.1496139232471609E-16  -2.9538691083434E-16   \n",
       "2      1.3322710897575714       1.2370935981826632    1.1943529026692048   \n",
       "3       -26.1605059358433        -43.5572415712451     -73.2167184552674   \n",
       "4        73.3016255459646         120.589493945238      20.0072083651213   \n",
       "\n",
       "                       V9  ...                     V22                  V23  \\\n",
       "0                  284807  ...                  284807               284807   \n",
       "1  -2.082078549880969E-15  ...  -7.664092821647739E-16  2.9538691083434E-16   \n",
       "2      1.0986320892243222  ...      0.7257015604409107   0.6244602955949898   \n",
       "3       -13.4340663182301  ...        -10.933143697655    -44.8077352037913   \n",
       "4        15.5949946071278  ...        10.5030900899454     22.5284116897749   \n",
       "\n",
       "                      V24                    V25                     V26  \\\n",
       "0                  284807                 284807                  284807   \n",
       "1  4.4549535383333125E-15  1.034652530922445E-15  1.8082469001075134E-15   \n",
       "2      0.6056470678271603     0.5212780705409427     0.48222701326105666   \n",
       "3       -2.83662691870341      -10.2953970749851       -2.60455055280817   \n",
       "4        4.58454913689817       7.51958867870916         3.5173456116238   \n",
       "\n",
       "                       V27                      V28             amount  \\\n",
       "0                   284807                   284807             284807   \n",
       "1  -3.5236864262028866E-16  -1.1336470632020615E-16   88.3496192509521   \n",
       "2       0.4036324949650313      0.33008326416025036  250.1201092401885   \n",
       "3        -22.5656793207827        -15.4300839055349                0.0   \n",
       "4         31.6121981061363         33.8478078188831           25691.16   \n",
       "\n",
       "                outcome              weight  \n",
       "0                284807              284807  \n",
       "1  0.001727485630620034  1.0000000000007845  \n",
       "2  0.041527189635464985  11.998747525629687  \n",
       "3                     0  0.5008652375006595  \n",
       "4                     1   289.4380081300813  \n",
       "\n",
       "[5 rows x 32 columns]"
      ]
     },
     "execution_count": 280,
     "metadata": {},
     "output_type": "execute_result"
    }
   ],
   "source": [
    "df.describe().toPandas()"
   ]
  },
  {
   "cell_type": "code",
   "execution_count": 245,
   "metadata": {},
   "outputs": [],
   "source": [
    "# Split the dataset into train and test subsets\n",
    "train, test = df.randomSplit([.8, .2], seed = 0)"
   ]
  },
  {
   "cell_type": "code",
   "execution_count": 246,
   "metadata": {},
   "outputs": [
    {
     "name": "stdout",
     "output_type": "stream",
     "text": [
      "There are 227805 rows in the train set, and 57002 in the test set\n"
     ]
    }
   ],
   "source": [
    "print(f\"\"\"There are {train.count()} rows in the train set, and {test.count()} in the test set\"\"\")"
   ]
  },
  {
   "cell_type": "code",
   "execution_count": 247,
   "metadata": {},
   "outputs": [
    {
     "data": {
      "text/plain": [
       "101"
      ]
     },
     "execution_count": 247,
     "metadata": {},
     "output_type": "execute_result"
    }
   ],
   "source": [
    "test.where(col('outcome')==1).count()"
   ]
  },
  {
   "cell_type": "code",
   "execution_count": 248,
   "metadata": {},
   "outputs": [
    {
     "data": {
      "text/plain": [
       "['V1',\n",
       " 'V2',\n",
       " 'V3',\n",
       " 'V4',\n",
       " 'V5',\n",
       " 'V6',\n",
       " 'V7',\n",
       " 'V8',\n",
       " 'V9',\n",
       " 'V10',\n",
       " 'V11',\n",
       " 'V12',\n",
       " 'V13',\n",
       " 'V14',\n",
       " 'V15',\n",
       " 'V16',\n",
       " 'V17',\n",
       " 'V18',\n",
       " 'V19',\n",
       " 'V20',\n",
       " 'V21',\n",
       " 'V22',\n",
       " 'V23',\n",
       " 'V24',\n",
       " 'V25',\n",
       " 'V26',\n",
       " 'V27',\n",
       " 'V28',\n",
       " 'amount',\n",
       " 'outcome',\n",
       " 'weight']"
      ]
     },
     "execution_count": 248,
     "metadata": {},
     "output_type": "execute_result"
    }
   ],
   "source": [
    "df.schema.names"
   ]
  },
  {
   "cell_type": "code",
   "execution_count": 249,
   "metadata": {},
   "outputs": [],
   "source": [
    "# Format the data for MLlib models\n",
    "from pyspark.ml.feature import VectorAssembler\n",
    "vector_assembler = VectorAssembler(inputCols=df.schema.names[:-2], outputCol=\"features\")\n",
    "train = vector_assembler.transform(train)\n",
    "test = vector_assembler.transform(test)"
   ]
  },
  {
   "cell_type": "code",
   "execution_count": 250,
   "metadata": {},
   "outputs": [
    {
     "name": "stdout",
     "output_type": "stream",
     "text": [
      "+--------------------+------------------+-------+\n",
      "|            features|            weight|outcome|\n",
      "+--------------------+------------------+-------+\n",
      "|[-56.407509631329...|0.5008652375006595|      0|\n",
      "|[-36.802319908874...|0.5008652375006595|      0|\n",
      "|[-34.148233651352...|0.5008652375006595|      0|\n",
      "+--------------------+------------------+-------+\n",
      "only showing top 3 rows\n",
      "\n"
     ]
    }
   ],
   "source": [
    "train.select('features', 'weight', 'outcome').show(3)"
   ]
  },
  {
   "cell_type": "code",
   "execution_count": 265,
   "metadata": {},
   "outputs": [],
   "source": [
    "from pyspark.ml.classification import RandomForestClassifier\n",
    "\n",
    "# Random Forest without weights\n",
    "rf = RandomForestClassifier(numTrees = 200, featuresCol='features', labelCol='outcome', seed=0)\n",
    "rf = rf.fit(train)"
   ]
  },
  {
   "cell_type": "code",
   "execution_count": 252,
   "metadata": {},
   "outputs": [],
   "source": [
    "# Random Forest with weights\n",
    "rfw = RandomForestClassifier(numTrees = 200, featuresCol='features', labelCol='outcome', weightCol='weight', seed=0)\n",
    "rfw = rfw.fit(train)"
   ]
  },
  {
   "cell_type": "code",
   "execution_count": 253,
   "metadata": {},
   "outputs": [],
   "source": [
    "# Logistic Regression without weights\n",
    "from pyspark.ml.classification import LogisticRegression\n",
    "lr = LogisticRegression(featuresCol='features', labelCol='outcome')\n",
    "lr = lr.fit(train)"
   ]
  },
  {
   "cell_type": "code",
   "execution_count": 254,
   "metadata": {},
   "outputs": [],
   "source": [
    "# Logistic Regression with weights\n",
    "lrw = LogisticRegression(featuresCol='features', labelCol='outcome', weightCol='weight')\n",
    "lrw = lrw.fit(train)"
   ]
  },
  {
   "cell_type": "code",
   "execution_count": 255,
   "metadata": {},
   "outputs": [],
   "source": [
    "# Predict the outcome for the test set using the four different models computed above\n",
    "res_rf = rf.transform(test)\n",
    "res_rfw = rfw.transform(test)\n",
    "res_lr = lr.transform(test)\n",
    "res_lrw = lrw.transform(test)"
   ]
  },
  {
   "cell_type": "code",
   "execution_count": 256,
   "metadata": {},
   "outputs": [
    {
     "name": "stdout",
     "output_type": "stream",
     "text": [
      "+-------+----------+-----+\n",
      "|outcome|prediction|count|\n",
      "+-------+----------+-----+\n",
      "|      1|       0.0|   22|\n",
      "|      0|       0.0|56891|\n",
      "|      1|       1.0|   79|\n",
      "|      0|       1.0|   10|\n",
      "+-------+----------+-----+\n",
      "\n"
     ]
    }
   ],
   "source": [
    "# Let us have a look at the confusion matrices on the test set\n",
    "\n",
    "# Random Forest without weights\n",
    "res_rf.groupBy('outcome', 'prediction').count().show()"
   ]
  },
  {
   "cell_type": "code",
   "execution_count": 257,
   "metadata": {},
   "outputs": [
    {
     "name": "stdout",
     "output_type": "stream",
     "text": [
      "+-------+----------+-----+\n",
      "|outcome|prediction|count|\n",
      "+-------+----------+-----+\n",
      "|      1|       0.0|   11|\n",
      "|      0|       0.0|56790|\n",
      "|      1|       1.0|   90|\n",
      "|      0|       1.0|  111|\n",
      "+-------+----------+-----+\n",
      "\n"
     ]
    }
   ],
   "source": [
    "# Random Forest with weights\n",
    "res_rfw.groupBy('outcome', 'prediction').count().show()"
   ]
  },
  {
   "cell_type": "code",
   "execution_count": 258,
   "metadata": {},
   "outputs": [
    {
     "name": "stdout",
     "output_type": "stream",
     "text": [
      "+-------+----------+-----+\n",
      "|outcome|prediction|count|\n",
      "+-------+----------+-----+\n",
      "|      1|       0.0|   35|\n",
      "|      0|       0.0|56890|\n",
      "|      1|       1.0|   66|\n",
      "|      0|       1.0|   11|\n",
      "+-------+----------+-----+\n",
      "\n"
     ]
    }
   ],
   "source": [
    "# Logistic Regression without weights\n",
    "res_lr.groupBy('outcome', 'prediction').count().show()"
   ]
  },
  {
   "cell_type": "code",
   "execution_count": 259,
   "metadata": {},
   "outputs": [
    {
     "name": "stdout",
     "output_type": "stream",
     "text": [
      "+-------+----------+-----+\n",
      "|outcome|prediction|count|\n",
      "+-------+----------+-----+\n",
      "|      1|       0.0|    7|\n",
      "|      0|       0.0|55539|\n",
      "|      1|       1.0|   94|\n",
      "|      0|       1.0| 1362|\n",
      "+-------+----------+-----+\n",
      "\n"
     ]
    }
   ],
   "source": [
    "# Logistic Regression with weights\n",
    "res_lrw.groupBy('outcome', 'prediction').count().show()"
   ]
  },
  {
   "cell_type": "code",
   "execution_count": 260,
   "metadata": {},
   "outputs": [
    {
     "data": {
      "text/plain": [
       "0.7911597128082142"
      ]
     },
     "execution_count": 260,
     "metadata": {},
     "output_type": "execute_result"
    }
   ],
   "source": [
    "# Compute the area under the PR curve\n",
    "from pyspark.ml.evaluation import BinaryClassificationEvaluator\n",
    "\n",
    "pr = BinaryClassificationEvaluator(rawPredictionCol = 'prediction', labelCol=\"outcome\", metricName=\"areaUnderPR\")\n",
    "pr.evaluate(res_rf)"
   ]
  },
  {
   "cell_type": "code",
   "execution_count": 261,
   "metadata": {},
   "outputs": [
    {
     "data": {
      "text/plain": [
       "0.42347464655392536"
      ]
     },
     "execution_count": 261,
     "metadata": {},
     "output_type": "execute_result"
    }
   ],
   "source": [
    "pr.evaluate(res_rfw)"
   ]
  },
  {
   "cell_type": "code",
   "execution_count": 262,
   "metadata": {},
   "outputs": [
    {
     "data": {
      "text/plain": [
       "0.7089350124294008"
      ]
     },
     "execution_count": 262,
     "metadata": {},
     "output_type": "execute_result"
    }
   ],
   "source": [
    "pr.evaluate(res_lr)"
   ]
  },
  {
   "cell_type": "code",
   "execution_count": 263,
   "metadata": {},
   "outputs": [
    {
     "data": {
      "text/plain": [
       "0.062384597959713274"
      ]
     },
     "execution_count": 263,
     "metadata": {},
     "output_type": "execute_result"
    }
   ],
   "source": [
    "pr.evaluate(res_lrw)"
   ]
  },
  {
   "cell_type": "code",
   "execution_count": null,
   "metadata": {},
   "outputs": [],
   "source": []
  }
 ],
 "metadata": {
  "kernelspec": {
   "display_name": "Python 3",
   "language": "python",
   "name": "python3"
  },
  "language_info": {
   "codemirror_mode": {
    "name": "ipython",
    "version": 3
   },
   "file_extension": ".py",
   "mimetype": "text/x-python",
   "name": "python",
   "nbconvert_exporter": "python",
   "pygments_lexer": "ipython3",
   "version": "3.7.6"
  }
 },
 "nbformat": 4,
 "nbformat_minor": 4
}
